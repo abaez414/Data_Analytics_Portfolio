{
 "cells": [
  {
   "cell_type": "code",
   "execution_count": 1,
   "id": "93fdc5f0",
   "metadata": {},
   "outputs": [],
   "source": [
    "# Import the dependencies.\n",
    "import pandas as pd\n",
    "import gmaps\n",
    "import requests\n"
   ]
  },
  {
   "cell_type": "code",
   "execution_count": 2,
   "id": "0dae5004",
   "metadata": {},
   "outputs": [],
   "source": [
    "# Import the API key.\n",
    "from config import g_key"
   ]
  },
  {
   "cell_type": "code",
   "execution_count": 3,
   "id": "11b6ccbc",
   "metadata": {},
   "outputs": [
    {
     "data": {
      "text/html": [
       "<div>\n",
       "<style scoped>\n",
       "    .dataframe tbody tr th:only-of-type {\n",
       "        vertical-align: middle;\n",
       "    }\n",
       "\n",
       "    .dataframe tbody tr th {\n",
       "        vertical-align: top;\n",
       "    }\n",
       "\n",
       "    .dataframe thead th {\n",
       "        text-align: right;\n",
       "    }\n",
       "</style>\n",
       "<table border=\"1\" class=\"dataframe\">\n",
       "  <thead>\n",
       "    <tr style=\"text-align: right;\">\n",
       "      <th></th>\n",
       "      <th>City_ID</th>\n",
       "      <th>City</th>\n",
       "      <th>Lat</th>\n",
       "      <th>Lng</th>\n",
       "      <th>Max Temp</th>\n",
       "      <th>Humidity</th>\n",
       "      <th>Cloudiness</th>\n",
       "      <th>Wind Speed</th>\n",
       "      <th>Country</th>\n",
       "      <th>Date</th>\n",
       "    </tr>\n",
       "  </thead>\n",
       "  <tbody>\n",
       "    <tr>\n",
       "      <th>0</th>\n",
       "      <td>0</td>\n",
       "      <td>Dubrovytsya</td>\n",
       "      <td>51.5744</td>\n",
       "      <td>26.5650</td>\n",
       "      <td>37.99</td>\n",
       "      <td>87</td>\n",
       "      <td>100</td>\n",
       "      <td>7.63</td>\n",
       "      <td>UA</td>\n",
       "      <td>2022-04-09 21:31:53</td>\n",
       "    </tr>\n",
       "    <tr>\n",
       "      <th>1</th>\n",
       "      <td>1</td>\n",
       "      <td>Barcelos</td>\n",
       "      <td>41.5388</td>\n",
       "      <td>-8.6151</td>\n",
       "      <td>57.85</td>\n",
       "      <td>96</td>\n",
       "      <td>9</td>\n",
       "      <td>3.83</td>\n",
       "      <td>PT</td>\n",
       "      <td>2022-04-09 21:28:35</td>\n",
       "    </tr>\n",
       "    <tr>\n",
       "      <th>2</th>\n",
       "      <td>2</td>\n",
       "      <td>Alenquer</td>\n",
       "      <td>-1.9417</td>\n",
       "      <td>-54.7383</td>\n",
       "      <td>77.95</td>\n",
       "      <td>89</td>\n",
       "      <td>96</td>\n",
       "      <td>1.88</td>\n",
       "      <td>BR</td>\n",
       "      <td>2022-04-09 21:31:54</td>\n",
       "    </tr>\n",
       "    <tr>\n",
       "      <th>3</th>\n",
       "      <td>3</td>\n",
       "      <td>Saint-Philippe</td>\n",
       "      <td>-21.3585</td>\n",
       "      <td>55.7679</td>\n",
       "      <td>78.22</td>\n",
       "      <td>84</td>\n",
       "      <td>43</td>\n",
       "      <td>11.05</td>\n",
       "      <td>RE</td>\n",
       "      <td>2022-04-09 21:31:54</td>\n",
       "    </tr>\n",
       "    <tr>\n",
       "      <th>4</th>\n",
       "      <td>4</td>\n",
       "      <td>Bubaque</td>\n",
       "      <td>11.2833</td>\n",
       "      <td>-15.8333</td>\n",
       "      <td>76.46</td>\n",
       "      <td>74</td>\n",
       "      <td>22</td>\n",
       "      <td>18.88</td>\n",
       "      <td>GW</td>\n",
       "      <td>2022-04-09 21:31:55</td>\n",
       "    </tr>\n",
       "  </tbody>\n",
       "</table>\n",
       "</div>"
      ],
      "text/plain": [
       "   City_ID            City      Lat      Lng  Max Temp  Humidity  Cloudiness  \\\n",
       "0        0     Dubrovytsya  51.5744  26.5650     37.99        87         100   \n",
       "1        1        Barcelos  41.5388  -8.6151     57.85        96           9   \n",
       "2        2        Alenquer  -1.9417 -54.7383     77.95        89          96   \n",
       "3        3  Saint-Philippe -21.3585  55.7679     78.22        84          43   \n",
       "4        4         Bubaque  11.2833 -15.8333     76.46        74          22   \n",
       "\n",
       "   Wind Speed Country                 Date  \n",
       "0        7.63      UA  2022-04-09 21:31:53  \n",
       "1        3.83      PT  2022-04-09 21:28:35  \n",
       "2        1.88      BR  2022-04-09 21:31:54  \n",
       "3       11.05      RE  2022-04-09 21:31:54  \n",
       "4       18.88      GW  2022-04-09 21:31:55  "
      ]
     },
     "execution_count": 3,
     "metadata": {},
     "output_type": "execute_result"
    }
   ],
   "source": [
    "# Store the CSV you saved created in part one into a DataFrame.\n",
    "city_data_df = pd.read_csv(\"weather_data/cities.csv\")\n",
    "city_data_df.head()"
   ]
  },
  {
   "cell_type": "code",
   "execution_count": 4,
   "id": "b2b382b3",
   "metadata": {},
   "outputs": [
    {
     "data": {
      "text/plain": [
       "City_ID                         9\n",
       "City                Leningradskiy\n",
       "Lat                       69.3833\n",
       "Lng                      178.4167\n",
       "Max Temp                    -9.85\n",
       "Humidity                       85\n",
       "Cloudiness                     27\n",
       "Wind Speed                   4.03\n",
       "Country                        RU\n",
       "Date          2022-04-09 21:31:56\n",
       "Name: 9, dtype: object"
      ]
     },
     "execution_count": 4,
     "metadata": {},
     "output_type": "execute_result"
    }
   ],
   "source": [
    "city_data_df.loc[9]"
   ]
  },
  {
   "cell_type": "code",
   "execution_count": 5,
   "id": "162cf40a",
   "metadata": {},
   "outputs": [
    {
     "data": {
      "text/plain": [
       "City_ID         int64\n",
       "City           object\n",
       "Lat           float64\n",
       "Lng           float64\n",
       "Max Temp      float64\n",
       "Humidity        int64\n",
       "Cloudiness      int64\n",
       "Wind Speed    float64\n",
       "Country        object\n",
       "Date           object\n",
       "dtype: object"
      ]
     },
     "execution_count": 5,
     "metadata": {},
     "output_type": "execute_result"
    }
   ],
   "source": [
    "city_data_df.dtypes"
   ]
  },
  {
   "cell_type": "code",
   "execution_count": 6,
   "id": "b75c2b28",
   "metadata": {},
   "outputs": [],
   "source": [
    "# Configure gmaps to use your Google API key.\n",
    "gmaps.configure(api_key=g_key)"
   ]
  },
  {
   "cell_type": "code",
   "execution_count": 7,
   "id": "defe68cf",
   "metadata": {},
   "outputs": [],
   "source": [
    "# Get the maximum temperature.\n",
    "max_temp = city_data_df[\"Max Temp\"]\n",
    "temps = []\n",
    "for temp in max_temp:\n",
    "    temps.append(max(temp, 0))"
   ]
  },
  {
   "cell_type": "code",
   "execution_count": 8,
   "id": "cff7cba4",
   "metadata": {},
   "outputs": [
    {
     "data": {
      "application/vnd.jupyter.widget-view+json": {
       "model_id": "e07ccb1b640b4f1cadbb7f3c99612888",
       "version_major": 2,
       "version_minor": 0
      },
      "text/plain": [
       "Figure(layout=FigureLayout(height='420px'))"
      ]
     },
     "metadata": {},
     "output_type": "display_data"
    }
   ],
   "source": [
    "# Heatmap of temperature\n",
    "# Get the latitude and longitude.\n",
    "locations = city_data_df[[\"Lat\", \"Lng\"]]\n",
    "# Get the maximum temperature.\n",
    "max_temp = city_data_df[\"Max Temp\"]\n",
    "# Assign the figure variable.\n",
    "fig = gmaps.figure()\n",
    "# Assign the heatmap variable.\n",
    "heat_layer = gmaps.heatmap_layer(locations, weights=[max(temp, 0) for temp in max_temp])\n",
    "# Add the heatmap layer.\n",
    "fig.add_layer(heat_layer)\n",
    "# Call the figure to plot the data.\n",
    "fig"
   ]
  }
 ],
 "metadata": {
  "kernelspec": {
   "display_name": "PythonData",
   "language": "python",
   "name": "pythondata"
  },
  "language_info": {
   "codemirror_mode": {
    "name": "ipython",
    "version": 3
   },
   "file_extension": ".py",
   "mimetype": "text/x-python",
   "name": "python",
   "nbconvert_exporter": "python",
   "pygments_lexer": "ipython3",
   "version": "3.7.11"
  }
 },
 "nbformat": 4,
 "nbformat_minor": 5
}
